{
 "cells": [
  {
   "cell_type": "markdown",
   "metadata": {},
   "source": [
    "# Preprocess Docs\n"
   ]
  },
  {
   "cell_type": "code",
   "execution_count": 41,
   "metadata": {
    "ExecuteTime": {
     "end_time": "2020-05-01T09:23:09.420090Z",
     "start_time": "2020-05-01T09:23:09.404052Z"
    }
   },
   "outputs": [],
   "source": [
    "# load dependency libraries\n",
    "import os\n",
    "import re\n",
    "import pickle\n",
    "from bs4 import BeautifulSoup\n",
    "from bs4.element import Comment\n",
    "from nltk.stem import PorterStemmer\n",
    "from nltk.corpus import stopwords"
   ]
  },
  {
   "cell_type": "code",
   "execution_count": 42,
   "metadata": {
    "ExecuteTime": {
     "end_time": "2020-05-01T09:23:10.400036Z",
     "start_time": "2020-05-01T09:23:10.387014Z"
    }
   },
   "outputs": [],
   "source": [
    "# extracting english stop words\n",
    "stop_words = stopwords.words('english')\n",
    "\n",
    "# Initializing Porter Stemmer object\n",
    "st = PorterStemmer()\n",
    "\n",
    "# Initializing regex to remove words with one or two characters length\n",
    "# shortword = re.compile(r'\\W*\\b\\w{1,2}\\b')\n",
    "\n",
    "# folder to store pickel files\n",
    "pickle_folder = \"./PickleFiles/\"\n",
    "os.makedirs(pickle_folder, exist_ok=True)"
   ]
  },
  {
   "cell_type": "code",
   "execution_count": 43,
   "metadata": {
    "ExecuteTime": {
     "end_time": "2020-05-01T09:23:11.208287Z",
     "start_time": "2020-05-01T09:23:11.191296Z"
    }
   },
   "outputs": [],
   "source": [
    "pages_folder = \"./FetchedPages/\"\n",
    "filenames = os.listdir(pages_folder)\n",
    "\n",
    "# list to store filenames of all stored crawled webpages\n",
    "files = []\n",
    "\n",
    "for name in filenames:\n",
    "    files.append(name)\n",
    "\n",
    "# len(files)"
   ]
  },
  {
   "cell_type": "code",
   "execution_count": 44,
   "metadata": {
    "ExecuteTime": {
     "end_time": "2020-05-01T09:23:12.082648Z",
     "start_time": "2020-05-01T09:23:12.065628Z"
    },
    "lines_to_next_cell": 2,
    "scrolled": true
   },
   "outputs": [],
   "source": [
    "# for file in files[:1]:\n",
    "#     web_page = open(pages_folder + file, \"r\", encoding=\"utf-8\")\n",
    "#     code = web_page.read()\n",
    "# #     print(code)\n",
    "#     soup = BeautifulSoup(code, \"html.parser\")\n",
    "#     [s.extract() for s in soup(['style', 'script', '[document]', 'head'])]\n",
    "#     visible_text = soup.getText()\n",
    "#     print(visible_text)"
   ]
  },
  {
   "cell_type": "code",
   "execution_count": 45,
   "metadata": {
    "ExecuteTime": {
     "end_time": "2020-05-01T09:23:13.086622Z",
     "start_time": "2020-05-01T09:23:13.075616Z"
    }
   },
   "outputs": [],
   "source": [
    "# function to filter tags that are visible on webpage i.e. excluding style, script, meta, etc. tags\n",
    "\n",
    "def tag_visible(element):\n",
    "    if element.parent.name in ['style', 'script', 'head', 'meta', '[document]']:\n",
    "        return False\n",
    "    elif isinstance(element, Comment):                     # check if element is html comment\n",
    "        return False\n",
    "    elif re.match(r\"[\\s\\r\\n]+\",str(element)):              #  to eliminate remaining extra white spaces and new lines\n",
    "        return False\n",
    "    else:\n",
    "        return True"
   ]
  },
  {
   "cell_type": "code",
   "execution_count": 46,
   "metadata": {
    "ExecuteTime": {
     "end_time": "2020-05-01T09:23:13.879608Z",
     "start_time": "2020-05-01T09:23:13.867617Z"
    }
   },
   "outputs": [],
   "source": [
    "# function to extract only the visible text from the html code of each webpage\n",
    "\n",
    "def get_text_from_code(page):\n",
    "    soup = BeautifulSoup(page, \"lxml\")\n",
    "    text_in_page = soup.find_all(text=True)                # return all text in page\n",
    "    visible_text = filter(tag_visible, text_in_page)       # return only visible text\n",
    "    return \" \".join(term.strip() for term in visible_text)"
   ]
  },
  {
   "cell_type": "code",
   "execution_count": 47,
   "metadata": {
    "ExecuteTime": {
     "end_time": "2020-05-01T09:31:29.322594Z",
     "start_time": "2020-05-01T09:25:34.870181Z"
    }
   },
   "outputs": [],
   "source": [
    "# dict to create inverted index\n",
    "inverted_index = {}\n",
    "\n",
    "# dict to store tokens in each web page\n",
    "webpage_tokens = {}\n",
    "\n",
    "for file in files:\n",
    "    web_page = open(pages_folder + file, \"r\", encoding=\"utf-8\")\n",
    "    code = web_page.read()\n",
    "#     print(code)\n",
    "    text = get_text_from_code(code)                     # get all text actually visible on web page\n",
    "#     print(text,\"\\n\")\n",
    "    text = text.lower()\n",
    "    text = re.sub('[^a-z]+', ' ', text)                 # remove all punctuations and digits\n",
    "    \n",
    "    tokens = text.split()\n",
    "#     print(tokens, \"\\n\")\n",
    "    \n",
    "#     # removing stop words from the tokens\n",
    "#     clean_tokens = [word for word in tokens if word not in stop_words]\n",
    "\n",
    "#     # stemming the tokens\n",
    "#     stem_tokens = [st.stem(word) for word in clean_tokens]\n",
    "\n",
    "#     # checking for stopwords again\n",
    "#     clean_stem_tokens = [word for word in stem_tokens if word not in stop_words]\n",
    "\n",
    "#     # converting list of tokens to string\n",
    "#     clean_stem_tokens = ' '.join(map(str,  clean_stem_tokens))\n",
    "\n",
    "#     # removing tokens with one or two characters length\n",
    "#     clean_stem_tokens = shortword.sub('', clean_stem_tokens)\n",
    "#     print(clean_stem_tokens, \"\\n\")\n",
    "    \n",
    "    # removing stop words and stemming each token while only accepting stemmed tokens with length greater than 2 \n",
    "    clean_stem_tokens = [\n",
    "        st.stem(token) for token in tokens \n",
    "        if (token not in stop_words and st.stem(token) not in stop_words) and len(st.stem(token))>2\n",
    "    ]\n",
    "#     print(clean_stem_tokens, \"\\n\")\n",
    "    \n",
    "    webpage_tokens[file] = clean_stem_tokens                        # add tokens in web page to dict \n",
    "    \n",
    "    for token in clean_stem_tokens:\n",
    "        \n",
    "        freq = inverted_index.setdefault(token,{}).get(file,0)      # get frequency of token and set to 0 if token not in dict\n",
    "            \n",
    "        inverted_index.setdefault(token,{})[file] = freq  + 1       # add 1 to frequency of token in current webpage\n",
    "\n",
    "#         inverted_index.setdefault(token,{})[file] = inverted_index.setdefault(token,{})\n",
    "#         x = inverted_index.setdefault(token,{})[file]\n",
    "#         print(x)"
   ]
  },
  {
   "cell_type": "code",
   "execution_count": 65,
   "metadata": {
    "ExecuteTime": {
     "end_time": "2020-05-02T09:32:17.082658Z",
     "start_time": "2020-05-02T09:32:16.619227Z"
    }
   },
   "outputs": [],
   "source": [
    "# pickling inverted index and tokens\n",
    "\n",
    "with open(pickle_folder + 'inverted_index.pickle', 'wb') as f:\n",
    "    pickle.dump(inverted_index,f)\n",
    "    \n",
    "with open(pickle_folder + 'webpages_tokens.pickle', 'wb') as f:\n",
    "    pickle.dump(webpage_tokens,f)"
   ]
  },
  {
   "cell_type": "code",
   "execution_count": 66,
   "metadata": {
    "ExecuteTime": {
     "end_time": "2020-05-02T09:32:18.063045Z",
     "start_time": "2020-05-02T09:32:18.050044Z"
    }
   },
   "outputs": [
    {
     "data": {
      "text/plain": [
       "24803"
      ]
     },
     "execution_count": 66,
     "metadata": {},
     "output_type": "execute_result"
    }
   ],
   "source": [
    "len(inverted_index)\n",
    "# inverted_index"
   ]
  },
  {
   "cell_type": "code",
   "execution_count": 67,
   "metadata": {
    "ExecuteTime": {
     "end_time": "2020-05-02T09:32:18.974117Z",
     "start_time": "2020-05-02T09:32:18.962115Z"
    }
   },
   "outputs": [],
   "source": [
    "# for item in webpage_tokens:\n",
    "# #     print(item)\n",
    "#     if not webpage_tokens[item]:\n",
    "#         print(item)"
   ]
  },
  {
   "cell_type": "code",
   "execution_count": 77,
   "metadata": {
    "ExecuteTime": {
     "end_time": "2020-05-02T09:39:22.406248Z",
     "start_time": "2020-05-02T09:39:22.400240Z"
    }
   },
   "outputs": [
    {
     "data": {
      "text/plain": [
       "439"
      ]
     },
     "execution_count": 77,
     "metadata": {},
     "output_type": "execute_result"
    }
   ],
   "source": [
    "# len(webpage_tokens['672'])"
   ]
  },
  {
   "cell_type": "code",
   "execution_count": 84,
   "metadata": {
    "ExecuteTime": {
     "end_time": "2020-05-02T09:54:47.881773Z",
     "start_time": "2020-05-02T09:54:47.869740Z"
    }
   },
   "outputs": [
    {
     "name": "stdout",
     "output_type": "stream",
     "text": [
      "203\n"
     ]
    }
   ],
   "source": [
    "# # files[2638]\n",
    "# for i,j in enumerate(files):\n",
    "#     if(j == '1180'):\n",
    "#         print(i)"
   ]
  },
  {
   "cell_type": "code",
   "execution_count": null,
   "metadata": {},
   "outputs": [],
   "source": []
  }
 ],
 "metadata": {
  "jupytext": {
   "formats": "ipynb,py:light"
  },
  "kernelspec": {
   "display_name": "Python [conda env:ds] *",
   "language": "python",
   "name": "conda-env-ds-py"
  },
  "language_info": {
   "codemirror_mode": {
    "name": "ipython",
    "version": 3
   },
   "file_extension": ".py",
   "mimetype": "text/x-python",
   "name": "python",
   "nbconvert_exporter": "python",
   "pygments_lexer": "ipython3",
   "version": "3.8.2"
  },
  "toc": {
   "base_numbering": 1,
   "nav_menu": {},
   "number_sections": true,
   "sideBar": true,
   "skip_h1_title": false,
   "title_cell": "Table of Contents",
   "title_sidebar": "Contents",
   "toc_cell": false,
   "toc_position": {},
   "toc_section_display": true,
   "toc_window_display": false
  },
  "varInspector": {
   "cols": {
    "lenName": 16,
    "lenType": 16,
    "lenVar": 40
   },
   "kernels_config": {
    "python": {
     "delete_cmd_postfix": "",
     "delete_cmd_prefix": "del ",
     "library": "var_list.py",
     "varRefreshCmd": "print(var_dic_list())"
    },
    "r": {
     "delete_cmd_postfix": ") ",
     "delete_cmd_prefix": "rm(",
     "library": "var_list.r",
     "varRefreshCmd": "cat(var_dic_list()) "
    }
   },
   "types_to_exclude": [
    "module",
    "function",
    "builtin_function_or_method",
    "instance",
    "_Feature"
   ],
   "window_display": false
  }
 },
 "nbformat": 4,
 "nbformat_minor": 4
}
