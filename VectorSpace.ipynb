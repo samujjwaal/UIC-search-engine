{
 "cells": [
  {
   "cell_type": "code",
   "execution_count": 19,
   "metadata": {
    "ExecuteTime": {
     "end_time": "2020-05-02T01:30:56.953221Z",
     "start_time": "2020-05-02T01:30:56.932226Z"
    }
   },
   "outputs": [],
   "source": [
    "# load dependency libraries\n",
    "import math\n",
    "from statistics import mode \n",
    "import os\n",
    "import copy\n",
    "# import operator\n",
    "# import string\n",
    "# from nltk import word_tokenize\n",
    "from nltk.corpus import stopwords\n",
    "from nltk.stem import PorterStemmer\n",
    "import pickle"
   ]
  },
  {
   "cell_type": "code",
   "execution_count": 20,
   "metadata": {
    "ExecuteTime": {
     "end_time": "2020-05-02T01:30:59.336463Z",
     "start_time": "2020-05-02T01:30:59.231789Z"
    }
   },
   "outputs": [],
   "source": [
    "N = 3001\n",
    "\n",
    "# extracting english stop words\n",
    "stop_words = stopwords.words('english')\n",
    "\n",
    "# Initializing Porter Stemmer object\n",
    "st = PorterStemmer()\n",
    "\n",
    "# folder to store pickel files\n",
    "pickle_folder = \"./PickleFiles/\"\n",
    "os.makedirs(pickle_folder, exist_ok=True)"
   ]
  },
  {
   "cell_type": "code",
   "execution_count": 21,
   "metadata": {
    "ExecuteTime": {
     "end_time": "2020-05-02T01:31:00.499920Z",
     "start_time": "2020-05-02T01:31:00.354867Z"
    }
   },
   "outputs": [],
   "source": [
    "with open(pickle_folder + 'inverted_index.pickle', 'rb') as f:\n",
    "    inverted_index=pickle.load(f)                   # rename "
   ]
  },
  {
   "cell_type": "code",
   "execution_count": 22,
   "metadata": {
    "ExecuteTime": {
     "end_time": "2020-05-02T01:31:01.693014Z",
     "start_time": "2020-05-02T01:31:01.426637Z"
    }
   },
   "outputs": [],
   "source": [
    "with open(pickle_folder + 'webpages_tokens.pickle', 'rb') as f:\n",
    "    webpages_tokens =pickle.load(f)                   # rename "
   ]
  },
  {
   "cell_type": "code",
   "execution_count": 23,
   "metadata": {
    "ExecuteTime": {
     "end_time": "2020-05-02T01:31:03.077963Z",
     "start_time": "2020-05-02T01:31:03.046957Z"
    }
   },
   "outputs": [],
   "source": [
    "# computing idf of each token\n",
    "\n",
    "# df = {}\n",
    "idf = {}\n",
    "\n",
    "for key in inverted_index.keys():\n",
    "    df = len(inverted_index[key].keys())\n",
    "    idf[key] = math.log2(N/df)"
   ]
  },
  {
   "cell_type": "code",
   "execution_count": 10,
   "metadata": {
    "ExecuteTime": {
     "end_time": "2020-05-01T09:42:55.465447Z",
     "start_time": "2020-05-01T09:42:55.452355Z"
    }
   },
   "outputs": [],
   "source": [
    "# doc_length = {}\n",
    "# for page in webpages_tokens:\n",
    "    \n",
    "#     doc_length[page] = "
   ]
  },
  {
   "cell_type": "code",
   "execution_count": 25,
   "metadata": {
    "ExecuteTime": {
     "end_time": "2020-05-02T01:35:10.099970Z",
     "start_time": "2020-05-02T01:35:09.723942Z"
    }
   },
   "outputs": [],
   "source": [
    "max_freq = {}\n",
    "\n",
    "for page in webpages_tokens:\n",
    "    most_freq_token = mode(webpages_tokens[page])\n",
    "    max_freq[page] = inverted_index[most_freq_token][page]\n",
    "    "
   ]
  },
  {
   "cell_type": "code",
   "execution_count": 26,
   "metadata": {
    "ExecuteTime": {
     "end_time": "2020-05-02T01:35:47.519333Z",
     "start_time": "2020-05-02T01:35:46.003964Z"
    }
   },
   "outputs": [],
   "source": [
    "# function to compute tf-idf of each token\n",
    "\n",
    "# making a temporary copy of the inverted index\n",
    "tf_idf = copy.deepcopy(inverted_index)\n",
    "\n",
    "# def calculate_tfidf(token, webpage):\n",
    "for token in tf_idf:\n",
    "    for page in tf_idf[token]:\n",
    "        tf = tf_idf[token][page] / max_freq[page]\n",
    "        tf_idf[token][page] = tf * idf[token]"
   ]
  },
  {
   "cell_type": "code",
   "execution_count": null,
   "metadata": {
    "ExecuteTime": {
     "end_time": "2020-05-02T01:37:49.259059Z",
     "start_time": "2020-05-02T01:37:49.213055Z"
    }
   },
   "outputs": [],
   "source": [
    "\n"
   ]
  },
  {
   "cell_type": "code",
   "execution_count": null,
   "metadata": {},
   "outputs": [],
   "source": []
  }
 ],
 "metadata": {
  "jupytext": {
   "formats": "ipynb,py:light"
  },
  "kernelspec": {
   "display_name": "Python [conda env:ds] *",
   "language": "python",
   "name": "conda-env-ds-py"
  },
  "language_info": {
   "codemirror_mode": {
    "name": "ipython",
    "version": 3
   },
   "file_extension": ".py",
   "mimetype": "text/x-python",
   "name": "python",
   "nbconvert_exporter": "python",
   "pygments_lexer": "ipython3",
   "version": "3.8.2"
  },
  "toc": {
   "base_numbering": 1,
   "nav_menu": {},
   "number_sections": true,
   "sideBar": true,
   "skip_h1_title": false,
   "title_cell": "Table of Contents",
   "title_sidebar": "Contents",
   "toc_cell": false,
   "toc_position": {},
   "toc_section_display": true,
   "toc_window_display": false
  },
  "varInspector": {
   "cols": {
    "lenName": 16,
    "lenType": 16,
    "lenVar": 40
   },
   "kernels_config": {
    "python": {
     "delete_cmd_postfix": "",
     "delete_cmd_prefix": "del ",
     "library": "var_list.py",
     "varRefreshCmd": "print(var_dic_list())"
    },
    "r": {
     "delete_cmd_postfix": ") ",
     "delete_cmd_prefix": "rm(",
     "library": "var_list.r",
     "varRefreshCmd": "cat(var_dic_list()) "
    }
   },
   "types_to_exclude": [
    "module",
    "function",
    "builtin_function_or_method",
    "instance",
    "_Feature"
   ],
   "window_display": false
  }
 },
 "nbformat": 4,
 "nbformat_minor": 4
}
