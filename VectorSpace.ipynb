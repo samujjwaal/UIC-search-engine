{
 "cells": [
  {
   "cell_type": "code",
   "execution_count": 184,
   "metadata": {
    "ExecuteTime": {
     "end_time": "2020-05-02T07:30:19.138153Z",
     "start_time": "2020-05-02T07:30:19.121180Z"
    }
   },
   "outputs": [],
   "source": [
    "# load dependency libraries\n",
    "import math\n",
    "import os\n",
    "import copy\n",
    "import re\n",
    "# import operator\n",
    "from nltk.corpus import stopwords\n",
    "from collections import Counter\n",
    "from nltk.stem import PorterStemmer\n",
    "import pickle"
   ]
  },
  {
   "cell_type": "code",
   "execution_count": 20,
   "metadata": {
    "ExecuteTime": {
     "end_time": "2020-05-02T01:30:59.336463Z",
     "start_time": "2020-05-02T01:30:59.231789Z"
    }
   },
   "outputs": [],
   "source": [
    "N = 3001\n",
    "\n",
    "# extracting english stop words\n",
    "stop_words = stopwords.words('english')\n",
    "\n",
    "# Initializing Porter Stemmer object\n",
    "st = PorterStemmer()\n",
    "\n",
    "# folder to store pickel files\n",
    "pickle_folder = \"./PickleFiles/\"\n",
    "os.makedirs(pickle_folder, exist_ok=True)"
   ]
  },
  {
   "cell_type": "code",
   "execution_count": 21,
   "metadata": {
    "ExecuteTime": {
     "end_time": "2020-05-02T01:31:00.499920Z",
     "start_time": "2020-05-02T01:31:00.354867Z"
    }
   },
   "outputs": [],
   "source": [
    "with open(pickle_folder + 'inverted_index.pickle', 'rb') as f:\n",
    "    inverted_index=pickle.load(f)                   # rename "
   ]
  },
  {
   "cell_type": "code",
   "execution_count": 22,
   "metadata": {
    "ExecuteTime": {
     "end_time": "2020-05-02T01:31:01.693014Z",
     "start_time": "2020-05-02T01:31:01.426637Z"
    }
   },
   "outputs": [],
   "source": [
    "with open(pickle_folder + 'webpages_tokens.pickle', 'rb') as f:\n",
    "    webpages_tokens =pickle.load(f)                   # rename "
   ]
  },
  {
   "cell_type": "code",
   "execution_count": 302,
   "metadata": {
    "ExecuteTime": {
     "end_time": "2020-05-02T10:00:28.065441Z",
     "start_time": "2020-05-02T10:00:27.648717Z"
    }
   },
   "outputs": [],
   "source": [
    "with open(pickle_folder + 'pages_crawled.pickle', 'rb') as f:\n",
    "    urls =pickle.load(f)                   # rename "
   ]
  },
  {
   "cell_type": "code",
   "execution_count": 133,
   "metadata": {
    "ExecuteTime": {
     "end_time": "2020-05-02T07:05:26.951272Z",
     "start_time": "2020-05-02T07:05:26.885889Z"
    }
   },
   "outputs": [],
   "source": [
    "webpages_idf = {}\n",
    "\n",
    "# function for computing idf of each token in the collection of webpages\n",
    "\n",
    "def calc_idf(inverted_index):\n",
    "    # df = {}\n",
    "    idf = {}\n",
    "\n",
    "    for key in inverted_index.keys():\n",
    "        df = len(inverted_index[key].keys())\n",
    "        idf[key] = math.log2(N/df)\n",
    "    \n",
    "    return idf\n",
    "    \n",
    "webpages_idf = calc_idf(inverted_index) "
   ]
  },
  {
   "cell_type": "code",
   "execution_count": 10,
   "metadata": {
    "ExecuteTime": {
     "end_time": "2020-05-01T09:42:55.465447Z",
     "start_time": "2020-05-01T09:42:55.452355Z"
    }
   },
   "outputs": [],
   "source": [
    "# doc_length = {}\n",
    "# for page in webpages_tokens:\n",
    "    \n",
    "#     doc_length[page] = "
   ]
  },
  {
   "cell_type": "code",
   "execution_count": 169,
   "metadata": {
    "ExecuteTime": {
     "end_time": "2020-05-02T07:27:30.310135Z",
     "start_time": "2020-05-02T07:27:30.154042Z"
    }
   },
   "outputs": [],
   "source": [
    "# max_freq = {}\n",
    "\n",
    "# for page in webpages_tokens:\n",
    "#     most_freq_token = mode(webpages_tokens[page])\n",
    "#     max_freq[page] = inverted_index[most_freq_token][page]\n",
    "    "
   ]
  },
  {
   "cell_type": "code",
   "execution_count": 173,
   "metadata": {
    "ExecuteTime": {
     "end_time": "2020-05-02T07:28:47.214675Z",
     "start_time": "2020-05-02T07:28:47.038607Z"
    }
   },
   "outputs": [],
   "source": [
    "max_freq = {}\n",
    "\n",
    "for page in webpages_tokens:\n",
    "    max_freq[page] = Counter(webpages_tokens[page]).most_common(1)[0][1]"
   ]
  },
  {
   "cell_type": "code",
   "execution_count": 174,
   "metadata": {
    "ExecuteTime": {
     "end_time": "2020-05-02T07:28:54.625238Z",
     "start_time": "2020-05-02T07:28:53.388001Z"
    }
   },
   "outputs": [],
   "source": [
    "webpages_tf_idf = {}\n",
    "\n",
    "# function to compute tf-idf of each token\n",
    "\n",
    "def calc_tfidf(inverted_index):\n",
    "    \n",
    "    # making a temporary copy of the inverted index\n",
    "    tf_idf = copy.deepcopy(inverted_index)\n",
    "    \n",
    "    for token in tf_idf:\n",
    "        for page in tf_idf[token]:\n",
    "            tf = tf_idf[token][page] / max_freq[page]\n",
    "            tf_idf[token][page] = tf * webpages_idf[token]\n",
    "    \n",
    "    return tf_idf\n",
    "\n",
    "webpages_tf_idf = calc_tfidf(inverted_index)"
   ]
  },
  {
   "cell_type": "code",
   "execution_count": 175,
   "metadata": {
    "ExecuteTime": {
     "end_time": "2020-05-02T07:29:00.659185Z",
     "start_time": "2020-05-02T07:29:00.631189Z"
    }
   },
   "outputs": [],
   "source": [
    "def calc_doc_len(doc, doc_tokens):\n",
    "    doc_len = 0\n",
    "    \n",
    "    for token in set(doc_tokens):\n",
    "        \n",
    "        doc_len += tf_idf[token][doc] ** 2\n",
    "    \n",
    "    doc_len = math.sqrt(doc_len)\n",
    "    \n",
    "    return doc_len"
   ]
  },
  {
   "cell_type": "code",
   "execution_count": 176,
   "metadata": {
    "ExecuteTime": {
     "end_time": "2020-05-02T07:29:06.517959Z",
     "start_time": "2020-05-02T07:29:06.488949Z"
    }
   },
   "outputs": [],
   "source": [
    "# calculate doc lengths for each fetched webpage\n",
    "\n",
    "def doc_len_pages(list_of_tokens):\n",
    "    \n",
    "    doc_lens = {}\n",
    "    \n",
    "    for page in list_of_tokens:\n",
    "        \n",
    "#         print(page)\n",
    "        doc_lens[page] = calc_doc_len(page, list_of_tokens[page])\n",
    "        \n",
    "    return doc_lens"
   ]
  },
  {
   "cell_type": "code",
   "execution_count": 183,
   "metadata": {
    "ExecuteTime": {
     "end_time": "2020-05-02T07:30:09.850095Z",
     "start_time": "2020-05-02T07:30:09.424747Z"
    }
   },
   "outputs": [],
   "source": [
    "# doc_len_pages(webpages_tokens)\n",
    "webpages_lens = doc_len_pages(webpages_tokens)\n",
    "# webpages_lens"
   ]
  },
  {
   "cell_type": "code",
   "execution_count": 178,
   "metadata": {
    "ExecuteTime": {
     "end_time": "2020-05-02T07:29:19.036424Z",
     "start_time": "2020-05-02T07:29:19.020427Z"
    }
   },
   "outputs": [],
   "source": [
    "# count = 0\n",
    "# t = []\n",
    "# for token in inverted_index:\n",
    "# #     print(inverted_index[token]['0'])\n",
    "#     if c:= inverted_index[token].get('0'):\n",
    "# #         count += 1\n",
    "#         count += c \n",
    "#         t.append(token)\n",
    "\n",
    "# # count\n",
    "# # t"
   ]
  },
  {
   "cell_type": "code",
   "execution_count": 179,
   "metadata": {
    "ExecuteTime": {
     "end_time": "2020-05-02T07:29:25.137967Z",
     "start_time": "2020-05-02T07:29:25.125965Z"
    }
   },
   "outputs": [],
   "source": [
    "# set(t) == set(webpages_tokens['0'])"
   ]
  },
  {
   "cell_type": "code",
   "execution_count": 301,
   "metadata": {
    "ExecuteTime": {
     "end_time": "2020-05-02T09:59:09.036647Z",
     "start_time": "2020-05-02T09:59:08.934218Z"
    }
   },
   "outputs": [],
   "source": [
    "# Function to compute cosine similarity\n",
    "\n",
    "def func(query, doc_lens):\n",
    "    similarity_scores = {}\n",
    "    query_len = 0\n",
    "    query_weights = {}\n",
    "    \n",
    "    query_dict = Counter(query)\n",
    "    \n",
    "    \n",
    "    for token in query_dict.keys():\n",
    "        token_tf = query_dict[token] / query_dict.most_common(1)[0][1]\n",
    "        query_weights[token] = token_tf * webpages_idf.get(token,0)\n",
    "        query_len += query_weights[token] ** 2\n",
    "    \n",
    "    query_len = math.sqrt(query_len)\n",
    "#     print(query_len,query_weights)\n",
    "\n",
    "    \n",
    "    for token in query:\n",
    "        token_weight = query_weights.get(token)\n",
    "#         print(token_weight)\n",
    "        \n",
    "        if token_weight:\n",
    "#             print(token_weight)\n",
    "            for page in webpages_tf_idf[token].keys():\n",
    "                similarity_scores[page] = similarity_scores.get(page,0) + (tf_idf[token][page] * token_weight)\n",
    "#                 print(tf_idf[token][page], token_weight)\n",
    "    \n",
    "#     print(similarity_scores)\n",
    "    \n",
    "    for page in similarity_scores:\n",
    "        similarity_scores[page] = similarity_scores[page] / (doc_lens[page] * query_len)\n",
    "        \n",
    "#     print(similarity_scores)\n",
    "    return similarity_scores\n",
    "                \n",
    "            \n",
    "            \n",
    "    \n",
    "query_sim_pages = func(query_tokens, webpages_lens)\n",
    "most_relevant_pages = sorted(query_sim_pages.items(), key= lambda x: x[1], reverse=True)"
   ]
  },
  {
   "cell_type": "code",
   "execution_count": 294,
   "metadata": {
    "ExecuteTime": {
     "end_time": "2020-05-02T09:53:50.217265Z",
     "start_time": "2020-05-02T09:53:48.468322Z"
    }
   },
   "outputs": [
    {
     "name": "stdout",
     "output_type": "stream",
     "text": [
      "Enter a search query: Best Campus Action Plan\n"
     ]
    }
   ],
   "source": [
    "# UIC received the ALL IN Campus Democracy Challenge's “Best Campus Action Plan” for 2018\n",
    "query = str(input(\"Enter a search query: \"))"
   ]
  },
  {
   "cell_type": "code",
   "execution_count": 288,
   "metadata": {
    "ExecuteTime": {
     "end_time": "2020-05-02T09:37:54.882018Z",
     "start_time": "2020-05-02T09:37:54.861644Z"
    }
   },
   "outputs": [],
   "source": [
    "# function to tokenize query text\n",
    "\n",
    "def tokenize_query(query_text):\n",
    "    text = query_text.lower()\n",
    "    text = re.sub('[^a-z]+', ' ', text)\n",
    "    tokens = text.split()\n",
    "    clean_stem_tokens = [\n",
    "            st.stem(token) for token in tokens \n",
    "            if (token not in stop_words and st.stem(token) not in stop_words) and len(st.stem(token))>2\n",
    "        ]\n",
    "    return clean_stem_tokens"
   ]
  },
  {
   "cell_type": "code",
   "execution_count": 289,
   "metadata": {
    "ExecuteTime": {
     "end_time": "2020-05-02T09:37:59.125234Z",
     "start_time": "2020-05-02T09:37:59.114137Z"
    }
   },
   "outputs": [],
   "source": [
    "# query_text = query.lower()\n",
    "# query_text = re.sub('[^a-z]+', ' ', query_text)\n",
    "# query_tokens = query_text.split()\n",
    "# clean_stem_query_tokens = [\n",
    "#         st.stem(token) for token in query_tokens \n",
    "#         if (token not in stop_words and st.stem(token) not in stop_words) and len(st.stem(token))>2\n",
    "#     ]\n",
    "# clean_stem_query_tokens"
   ]
  },
  {
   "cell_type": "code",
   "execution_count": 295,
   "metadata": {
    "ExecuteTime": {
     "end_time": "2020-05-02T09:53:54.763421Z",
     "start_time": "2020-05-02T09:53:54.746422Z"
    }
   },
   "outputs": [],
   "source": [
    "query_tokens = tokenize_query(query)"
   ]
  },
  {
   "cell_type": "code",
   "execution_count": 296,
   "metadata": {
    "ExecuteTime": {
     "end_time": "2020-05-02T09:53:59.176049Z",
     "start_time": "2020-05-02T09:53:59.165049Z"
    }
   },
   "outputs": [
    {
     "data": {
      "text/plain": [
       "['best', 'campu', 'action', 'plan']"
      ]
     },
     "execution_count": 296,
     "metadata": {},
     "output_type": "execute_result"
    }
   ],
   "source": [
    "query_tokens"
   ]
  }
 ],
 "metadata": {
  "jupytext": {
   "formats": "ipynb,py:light"
  },
  "kernelspec": {
   "display_name": "Python [conda env:ds] *",
   "language": "python",
   "name": "conda-env-ds-py"
  },
  "language_info": {
   "codemirror_mode": {
    "name": "ipython",
    "version": 3
   },
   "file_extension": ".py",
   "mimetype": "text/x-python",
   "name": "python",
   "nbconvert_exporter": "python",
   "pygments_lexer": "ipython3",
   "version": "3.8.2"
  },
  "toc": {
   "base_numbering": 1,
   "nav_menu": {},
   "number_sections": true,
   "sideBar": true,
   "skip_h1_title": false,
   "title_cell": "Table of Contents",
   "title_sidebar": "Contents",
   "toc_cell": false,
   "toc_position": {},
   "toc_section_display": true,
   "toc_window_display": false
  },
  "varInspector": {
   "cols": {
    "lenName": 16,
    "lenType": 16,
    "lenVar": 40
   },
   "kernels_config": {
    "python": {
     "delete_cmd_postfix": "",
     "delete_cmd_prefix": "del ",
     "library": "var_list.py",
     "varRefreshCmd": "print(var_dic_list())"
    },
    "r": {
     "delete_cmd_postfix": ") ",
     "delete_cmd_prefix": "rm(",
     "library": "var_list.r",
     "varRefreshCmd": "cat(var_dic_list()) "
    }
   },
   "types_to_exclude": [
    "module",
    "function",
    "builtin_function_or_method",
    "instance",
    "_Feature"
   ],
   "window_display": false
  }
 },
 "nbformat": 4,
 "nbformat_minor": 4
}
