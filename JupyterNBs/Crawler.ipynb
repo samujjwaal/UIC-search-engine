{
 "cells": [
  {
   "cell_type": "markdown",
   "metadata": {},
   "source": [
    "# Crawler Web pages"
   ]
  },
  {
   "cell_type": "code",
   "execution_count": 1,
   "metadata": {
    "ExecuteTime": {
     "end_time": "2020-05-11T00:33:36.070595Z",
     "start_time": "2020-05-11T00:33:35.111098Z"
    }
   },
   "outputs": [],
   "source": [
    "# load dependency libraries\n",
    "import requests\n",
    "import os\n",
    "import re\n",
    "import pickle\n",
    "from bs4 import BeautifulSoup\n",
    "from collections import deque"
   ]
  },
  {
   "cell_type": "code",
   "execution_count": 2,
   "metadata": {
    "ExecuteTime": {
     "end_time": "2020-05-11T03:28:33.938496Z",
     "start_time": "2020-05-11T00:33:40.164312Z"
    },
    "lines_to_next_cell": 2,
    "run_control": {
     "marked": false
    }
   },
   "outputs": [
    {
     "name": "stdout",
     "output_type": "stream",
     "text": [
      "Could not connect to  https://vcsaonline.uic.edu/lms\n",
      "Error occured:  HTTPSConnectionPool(host='vcsaonline.uic.edu', port=443): Max retries exceeded with url: /lms (Caused by SSLError(SSLCertVerificationError(\"hostname 'vcsaonline.uic.edu' doesn't match 'dev.sa.uic.edu'\")))  \n",
      "\n",
      "Could not connect to  https://www.ready.uic.edu\n",
      "Error occured:  HTTPSConnectionPool(host='www.ready.uic.edu', port=443): Max retries exceeded with url: / (Caused by SSLError(SSLCertVerificationError(\"hostname 'www.ready.uic.edu' doesn't match '*.accc.uic.edu'\")))  \n",
      "\n",
      "Could not connect to  https://vcsa.uic.edu\n",
      "Error occured:  HTTPSConnectionPool(host='vcsa.uic.edu', port=443): Max retries exceeded with url: / (Caused by SSLError(SSLCertVerificationError(\"hostname 'vcsa.uic.edu' doesn't match '*.accc.uic.edu'\")))  \n",
      "\n",
      "Could not connect to  http://www.psych.uic.edu\n",
      "Error occured:  HTTPSConnectionPool(host='www.psych.uic.edu', port=443): Max retries exceeded with url: / (Caused by SSLError(SSLError(\"bad handshake: Error([('SSL routines', 'tls_process_server_certificate', 'certificate verify failed')])\")))  \n",
      "\n",
      "Could not connect to  http://www.psych.uic.edu/mhsrp\n",
      "Error occured:  HTTPSConnectionPool(host='www.psych.uic.edu', port=443): Max retries exceeded with url: /mhsrp (Caused by SSLError(SSLError(\"bad handshake: Error([('SSL routines', 'tls_process_server_certificate', 'certificate verify failed')])\")))  \n",
      "\n",
      "Could not connect to  http://www.psych.uic.edu/eidp\n",
      "Error occured:  HTTPSConnectionPool(host='www.psych.uic.edu', port=443): Max retries exceeded with url: /eidp (Caused by SSLError(SSLError(\"bad handshake: Error([('SSL routines', 'tls_process_server_certificate', 'certificate verify failed')])\")))  \n",
      "\n",
      "Could not connect to  http://www.psych.uic.edu/mhsrp/publications.htm\n",
      "Error occured:  HTTPSConnectionPool(host='www.psych.uic.edu', port=443): Max retries exceeded with url: /mhsrp/publications.htm (Caused by SSLError(SSLError(\"bad handshake: Error([('SSL routines', 'tls_process_server_certificate', 'certificate verify failed')])\")))  \n",
      "\n",
      "Could not connect to  http://www.psych.uic.edu/eidp/veteranstoolkit.htm\n",
      "Error occured:  HTTPSConnectionPool(host='www.psych.uic.edu', port=443): Max retries exceeded with url: /eidp/veteranstoolkit.htm (Caused by SSLError(SSLError(\"bad handshake: Error([('SSL routines', 'tls_process_server_certificate', 'certificate verify failed')])\")))  \n",
      "\n",
      "Could not connect to  http://fmweb.fm.uic.edu\n",
      "Error occured:  HTTPConnectionPool(host='fmweb.fm.uic.edu', port=80): Max retries exceeded with url: / (Caused by NewConnectionError('<urllib3.connection.HTTPConnection object at 0x000001A535AD6FA0>: Failed to establish a new connection: [Errno 11001] getaddrinfo failed'))  \n",
      "\n",
      "Could not connect to  https://www.nursing.uic.edu/about-us/clinical-learning-resource-center\n",
      "Error occured:  HTTPSConnectionPool(host='www.nursing.uic.edu', port=443): Max retries exceeded with url: /about-us/clinical-learning-resource-center (Caused by SSLError(SSLError(\"bad handshake: Error([('SSL routines', 'tls_process_server_certificate', 'certificate verify failed')])\")))  \n",
      "\n",
      "Could not connect to  https://www.nursing.uic.edu/news/5m-gift-expand-nursing-schools-simulation-lab\n",
      "Error occured:  HTTPSConnectionPool(host='www.nursing.uic.edu', port=443): Max retries exceeded with url: /news/5m-gift-expand-nursing-schools-simulation-lab (Caused by SSLError(SSLError(\"bad handshake: Error([('SSL routines', 'tls_process_server_certificate', 'certificate verify failed')])\")))  \n",
      "\n",
      "Could not connect to  https://www.nursing.uic.edu/simulation-lab/lab-highlights\n",
      "Error occured:  HTTPSConnectionPool(host='www.nursing.uic.edu', port=443): Max retries exceeded with url: /simulation-lab/lab-highlights (Caused by SSLError(SSLError(\"bad handshake: Error([('SSL routines', 'tls_process_server_certificate', 'certificate verify failed')])\")))  \n",
      "\n",
      "Could not connect to  http://uictechcenter.uic.edu\n",
      "Error occured:  HTTPSConnectionPool(host='techcenter.uic.edu%20', port=443): Max retries exceeded with url: / (Caused by NewConnectionError('<urllib3.connection.VerifiedHTTPSConnection object at 0x000001A535549520>: Failed to establish a new connection: [Errno 11001] getaddrinfo failed'))  \n",
      "\n",
      "Could not connect to  http://https://registrar.uic.edu/current_students/calendars/final_exam_schedule.html\n",
      "Error occured:  HTTPConnectionPool(host='https', port=80): Max retries exceeded with url: //registrar.uic.edu/current_students/calendars/final_exam_schedule.html (Caused by NewConnectionError('<urllib3.connection.HTTPConnection object at 0x000001A5361E42B0>: Failed to establish a new connection: [Errno 11001] getaddrinfo failed'))  \n",
      "\n",
      "Could not connect to  https://tigger.uic.edu/depts/oar/undergrad/transfer_requirements_undergrad.html\n",
      "Error occured:  HTTPSConnectionPool(host='tigger.uic.edu', port=443): Max retries exceeded with url: /depts/oar/undergrad/transfer_requirements_undergrad.html (Caused by SSLError(SSLError(\"bad handshake: SysCallError(-1, 'Unexpected EOF')\")))  \n",
      "\n",
      "Could not connect to  http://gpip.engr.uic.edu\n",
      "Error occured:  HTTPSConnectionPool(host='gpip.engr.uic.edu', port=443): Max retries exceeded with url: / (Caused by SSLError(SSLError(\"bad handshake: Error([('SSL routines', 'tls_process_server_certificate', 'certificate verify failed')])\")))  \n",
      "\n",
      "Could not connect to  https://www.commencement.uic.edu\n",
      "Error occured:  HTTPSConnectionPool(host='www.commencement.uic.edu', port=443): Max retries exceeded with url: / (Caused by SSLError(SSLCertVerificationError(\"hostname 'www.commencement.uic.edu' doesn't match '*.accc.uic.edu'\")))  \n",
      "\n",
      "Could not connect to  https://papautsky.lab.uic.edu\n",
      "Error occured:  HTTPSConnectionPool(host='papautsky.lab.uic.edu', port=443): Max retries exceeded with url: / (Caused by SSLError(SSLError(\"bad handshake: Error([('SSL routines', 'tls_process_server_certificate', 'certificate verify failed')])\")))  \n",
      "\n",
      "Could not connect to  https://cbrl.lab.uic.edu\n",
      "Error occured:  HTTPSConnectionPool(host='cbrl.lab.uic.edu', port=443): Max retries exceeded with url: / (Caused by SSLError(SSLError(\"bad handshake: Error([('SSL routines', 'tls_process_server_certificate', 'certificate verify failed')])\")))  \n",
      "\n",
      "Could not connect to  https://yayuepan.lab.uic.edu\n",
      "Error occured:  HTTPSConnectionPool(host='yayuepan.lab.uic.edu', port=443): Max retries exceeded with url: / (Caused by SSLError(SSLError(\"bad handshake: Error([('SSL routines', 'tls_process_server_certificate', 'certificate verify failed')])\")))  \n",
      "\n",
      "Could not connect to  https://lazarov.lab.uic.edu\n",
      "Error occured:  HTTPSConnectionPool(host='lazarov.lab.uic.edu', port=443): Max retries exceeded with url: / (Caused by SSLError(SSLError(\"bad handshake: Error([('SSL routines', 'tls_process_server_certificate', 'certificate verify failed')])\")))  \n",
      "\n",
      "Could not connect to  https://saggere.lab.uic.edu/index.html\n",
      "Error occured:  HTTPSConnectionPool(host='saggere.lab.uic.edu', port=443): Max retries exceeded with url: /index.html (Caused by SSLError(SSLError(\"bad handshake: Error([('SSL routines', 'tls_process_server_certificate', 'certificate verify failed')])\")))  \n",
      "\n",
      "Could not connect to  http://nde.lab.uic.edu\n",
      "Error occured:  HTTPSConnectionPool(host='nde.lab.uic.edu', port=443): Max retries exceeded with url: / (Caused by SSLError(SSLError(\"bad handshake: Error([('SSL routines', 'tls_process_server_certificate', 'certificate verify failed')])\")))  \n",
      "\n",
      "Could not connect to  http://aeon.lab.uic.edu/index.html\n",
      "Error occured:  HTTPSConnectionPool(host='aeon.lab.uic.edu', port=443): Max retries exceeded with url: /index.html (Caused by SSLError(SSLError(\"bad handshake: Error([('SSL routines', 'tls_process_server_certificate', 'certificate verify failed')])\")))  \n",
      "\n",
      "Could not connect to  http://yayuepan.lab.uic.edu\n",
      "Error occured:  HTTPSConnectionPool(host='yayuepan.lab.uic.edu', port=443): Max retries exceeded with url: / (Caused by SSLError(SSLError(\"bad handshake: Error([('SSL routines', 'tls_process_server_certificate', 'certificate verify failed')])\")))  \n",
      "\n",
      "Could not connect to  http://bdsc.lab.uic.edu/people.html\n",
      "Error occured:  HTTPSConnectionPool(host='bdsc.lab.uic.edu', port=443): Max retries exceeded with url: /people.html (Caused by SSLError(SSLError(\"bad handshake: Error([('SSL routines', 'tls_process_server_certificate', 'certificate verify failed')])\")))  \n",
      "\n",
      "Could not connect to  https://strc.evl.uic.edu\n",
      "Error occured:  HTTPSConnectionPool(host='strc.evl.uic.edu', port=443): Max retries exceeded with url: / (Caused by SSLError(SSLError(\"bad handshake: Error([('SSL routines', 'tls_process_server_certificate', 'certificate verify failed')])\")))  \n",
      "\n"
     ]
    },
    {
     "name": "stdout",
     "output_type": "stream",
     "text": [
      "Could not connect to  http://cbrl.lab.uic.edu\n",
      "Error occured:  HTTPSConnectionPool(host='cbrl.lab.uic.edu', port=443): Max retries exceeded with url: / (Caused by SSLError(SSLError(\"bad handshake: Error([('SSL routines', 'tls_process_server_certificate', 'certificate verify failed')])\")))  \n",
      "\n",
      "Could not connect to  http://liu.lab.uic.edu\n",
      "Error occured:  HTTPSConnectionPool(host='liu.lab.uic.edu', port=443): Max retries exceeded with url: / (Caused by SSLError(SSLError(\"bad handshake: Error([('SSL routines', 'tls_process_server_certificate', 'certificate verify failed')])\")))  \n",
      "\n",
      "Could not connect to  https://listserv.uic.edu/cgi-bin/wa\n",
      "Error occured:  HTTPSConnectionPool(host='listserv.uic.edu', port=443): Max retries exceeded with url: /cgi-bin/wa (Caused by SSLError(SSLError(\"bad handshake: Error([('SSL routines', 'tls_process_server_certificate', 'certificate verify failed')])\")))  \n",
      "\n",
      "Could not connect to  https://web-travel-prod.cc.uic.edu/index.html\n",
      "Error occured:  HTTPSConnectionPool(host='web-travel-prod.cc.uic.edu', port=443): Max retries exceeded with url: /index.html (Caused by SSLError(SSLError(\"bad handshake: Error([('SSL routines', 'tls_process_server_certificate', 'certificate verify failed')])\")))  \n",
      "\n",
      "Could not connect to  https://global.uic.edu\n",
      "Error occured:  HTTPSConnectionPool(host='global.uic.edu', port=443): Max retries exceeded with url: / (Caused by SSLError(SSLError(\"bad handshake: Error([('SSL routines', 'tls_process_server_certificate', 'certificate verify failed')])\")))  \n",
      "\n",
      "Could not connect to  https://global.uic.edu/about-uic/meet-the-team\n",
      "Error occured:  HTTPSConnectionPool(host='global.uic.edu', port=443): Max retries exceeded with url: /about-uic/meet-the-team (Caused by SSLError(SSLError(\"bad handshake: Error([('SSL routines', 'tls_process_server_certificate', 'certificate verify failed')])\")))  \n",
      "\n",
      "Could not connect to  https://uaedp.uic.edu\n",
      "Error occured:  HTTPSConnectionPool(host='uaedp.uic.edu', port=443): Max retries exceeded with url: / (Caused by SSLError(SSLCertVerificationError(\"hostname 'uaedp.uic.edu' doesn't match '*.accc.uic.edu'\")))  \n",
      "\n",
      "Could not connect to  https://www.nursing.uic.edu/about-us/global-health\n",
      "Error occured:  HTTPSConnectionPool(host='www.nursing.uic.edu', port=443): Max retries exceeded with url: /about-us/global-health (Caused by SSLError(SSLError(\"bad handshake: Error([('SSL routines', 'tls_process_server_certificate', 'certificate verify failed')])\")))  \n",
      "\n",
      "Could not connect to  https://vpua.uic.edu/nikos-varelas-vice-provost-for-undergraduate-affairs\n",
      "Error occured:  HTTPSConnectionPool(host='vpua.uic.edu', port=443): Max retries exceeded with url: /nikos-varelas-vice-provost-for-undergraduate-affairs (Caused by SSLError(SSLCertVerificationError(\"hostname 'vpua.uic.edu' doesn't match '*.accc.uic.edu'\")))  \n",
      "\n",
      "Could not connect to  https://ehsodb.ehs.uic.edu/ehsaweb/ehsawebisapi.dll/exec\n",
      "Error occured:  HTTPSConnectionPool(host='ehsodb.ehs.uic.edu', port=443): Max retries exceeded with url: /ehsaweb/ehsawebisapi.dll/exec (Caused by NewConnectionError('<urllib3.connection.VerifiedHTTPSConnection object at 0x000001A5358CE700>: Failed to establish a new connection: [WinError 10060] A connection attempt failed because the connected party did not properly respond after a period of time, or established connection failed because connected host has failed to respond'))  \n",
      "\n",
      "Could not connect to  https://campusprograms.uic.edu\n",
      "Error occured:  HTTPSConnectionPool(host='campusprograms.uic.edu', port=443): Max retries exceeded with url: / (Caused by SSLError(SSLCertVerificationError(\"hostname 'campusprograms.uic.edu' doesn't match '*.accc.uic.edu'\")))  \n",
      "\n",
      "Could not connect to  http://innov-vm-1.cc.uic.edu/wordpress\n",
      "Error occured:  HTTPConnectionPool(host='innov-vm-1.cc.uic.edu', port=80): Max retries exceeded with url: /wordpress (Caused by NewConnectionError('<urllib3.connection.HTTPConnection object at 0x000001A535997070>: Failed to establish a new connection: [Errno 11001] getaddrinfo failed'))  \n",
      "\n",
      "Could not connect to  https://ossp.uic.edu/scholarships\n",
      "Error occured:  HTTPSConnectionPool(host='ossp.uic.edu', port=443): Max retries exceeded with url: /scholarships (Caused by SSLError(SSLCertVerificationError(\"hostname 'ossp.uic.edu' doesn't match '*.accc.uic.edu'\")))  \n",
      "\n",
      "Could not connect to  https://ccspd.org.uic.edu\n",
      "Error occured:  HTTPSConnectionPool(host='ccspd.org.uic.edu', port=443): Max retries exceeded with url: / (Caused by NewConnectionError('<urllib3.connection.VerifiedHTTPSConnection object at 0x000001A5359443D0>: Failed to establish a new connection: [Errno 11001] getaddrinfo failed'))  \n",
      "\n",
      "Could not connect to  http://https://chicago.medicine.uic.edu/departments/academic-departments/obstetrics-and-gynecology/obgyn-faculty/ayman-al-hendy/\n",
      "Error occured:  HTTPConnectionPool(host='https', port=80): Max retries exceeded with url: //chicago.medicine.uic.edu/departments/academic-departments/obstetrics-and-gynecology/obgyn-faculty/ayman-al-hendy/ (Caused by NewConnectionError('<urllib3.connection.HTTPConnection object at 0x000001A535D021F0>: Failed to establish a new connection: [Errno 11001] getaddrinfo failed'))  \n",
      "\n",
      "Could not connect to  http://https://derrible.people.uic.edu\n",
      "Error occured:  HTTPConnectionPool(host='https', port=80): Max retries exceeded with url: //derrible.people.uic.edu (Caused by NewConnectionError('<urllib3.connection.HTTPConnection object at 0x000001A535D02280>: Failed to establish a new connection: [Errno 11001] getaddrinfo failed'))  \n",
      "\n",
      "Could not connect to  http://ecc.engr.uic.edu\n",
      "Error occured:  HTTPConnectionPool(host='ecc.engr.uic.edu', port=80): Max retries exceeded with url: / (Caused by NewConnectionError('<urllib3.connection.HTTPConnection object at 0x000001A5355ACB50>: Failed to establish a new connection: [Errno 11001] getaddrinfo failed'))  \n",
      "\n",
      "Could not connect to  http://www.ecc.uic.edu\n",
      "Error occured:  HTTPSConnectionPool(host='ecc.engr.uic.edu', port=443): Max retries exceeded with url: / (Caused by NewConnectionError('<urllib3.connection.VerifiedHTTPSConnection object at 0x000001A535699BB0>: Failed to establish a new connection: [Errno 11001] getaddrinfo failed'))  \n",
      "\n",
      "Could not connect to  https://give.jmls.uic.edu\n",
      "Error occured:  HTTPSConnectionPool(host='give.jmls.uic.edu', port=443): Max retries exceeded with url: / (Caused by SSLError(SSLError(\"bad handshake: Error([('SSL routines', 'tls_process_server_certificate', 'certificate verify failed')])\")))  \n",
      "\n",
      "Could not connect to  http://ccspd.org.uic.edu\n",
      "Error occured:  HTTPConnectionPool(host='ccspd.org.uic.edu', port=80): Max retries exceeded with url: / (Caused by NewConnectionError('<urllib3.connection.HTTPConnection object at 0x000001A535CC2280>: Failed to establish a new connection: [Errno 11001] getaddrinfo failed'))  \n",
      "\n",
      "Could not connect to  http://portal.den.uic.edu\n",
      "Error occured:  HTTPConnectionPool(host='portal.den.uic.edu', port=80): Max retries exceeded with url: / (Caused by NewConnectionError('<urllib3.connection.HTTPConnection object at 0x000001A535D4AD60>: Failed to establish a new connection: [WinError 10060] A connection attempt failed because the connected party did not properly respond after a period of time, or established connection failed because connected host has failed to respond'))  \n",
      "\n",
      "Could not connect to  http://ccrm.ihrp.uic.edu/ccrmp/ccrmp_home.php\n",
      "Error occured:  HTTPConnectionPool(host='ccrm.ihrp.uic.edu', port=80): Max retries exceeded with url: /ccrmp/ccrmp_home.php (Caused by NewConnectionError('<urllib3.connection.HTTPConnection object at 0x000001A5361FB0A0>: Failed to establish a new connection: [Errno 11001] getaddrinfo failed'))  \n",
      "\n",
      "Could not connect to  https://www.psych.uic.edu/clinical/adult-services\n",
      "Error occured:  HTTPSConnectionPool(host='www.psych.uic.edu', port=443): Max retries exceeded with url: /clinical/adult-services (Caused by SSLError(SSLError(\"bad handshake: Error([('SSL routines', 'tls_process_server_certificate', 'certificate verify failed')])\")))  \n",
      "\n"
     ]
    }
   ],
   "source": [
    "domain = \"uic.edu\"\n",
    "start_url = \"https://cs.uic.edu\"                \n",
    "\n",
    "pages_folder = \"../FetchedPages/\"\n",
    "\n",
    "# file extensions to ignore while crawling pages\n",
    "ignore_ext = [\n",
    "    '.pdf', '.doc', '.docx', '.ppt', '.pptx', '.xls', '.xlsx', '.css', '.js',\n",
    "    '.aspx', '.png', '.jpg', '.jpeg', '.gif', '.svg', '.ico', '.mp4',\n",
    "    '.avi', '.tar', '.gz', '.tgz', '.zip'\n",
    "]\n",
    "\n",
    "crawl_limit = 6000\n",
    "\n",
    "# to make sure error log file is initially empty\n",
    "error_file = \"../error_log.txt\"\n",
    "f = open(error_file, \"w+\")\n",
    "# f.truncate()\n",
    "f.close()\n",
    "\n",
    "# queue to perform BFS web traversal\n",
    "url_q = deque()\n",
    "url_q.append(start_url)\n",
    "\n",
    "# list to keep track of traversed URLs\n",
    "urls_crawled = []\n",
    "urls_crawled.append(start_url)\n",
    "\n",
    "# dict to track pages fetched and stored in folder\n",
    "pages_crawled = {}\n",
    "page_no = 0\n",
    "\n",
    "while url_q:\n",
    "    \n",
    "    try:\n",
    "        url = url_q.popleft()               # fetch the first URL from the queue\n",
    "        rqst = requests.get(url)            # get html code of web page\n",
    "\n",
    "        if (rqst.status_code == 200):\n",
    "            \n",
    "            soup = BeautifulSoup(rqst.text, 'lxml')\n",
    "            tags_extracted = soup.find_all('a')                 # extract all 'a' tags from page\n",
    "            \n",
    "            if len(tags_extracted) != 0:                        # to reject pages which don't link to another page\n",
    "                pages_crawled[page_no] = url    \n",
    "\n",
    "                output_file = pages_folder + str(page_no)\n",
    "\n",
    "                os.makedirs(os.path.dirname(output_file), exist_ok=True)     # create file to store html code\n",
    "\n",
    "                with open(output_file, \"w\", encoding=\"utf-8\") as file:\n",
    "                    file.write(rqst.text)\n",
    "                file.close()\n",
    "\n",
    "                for tag in tags_extracted:\n",
    "\n",
    "                    link = tag.get('href')                  \n",
    "\n",
    "                    if link is not None and link.startswith(\"http\") and not any(ext in link.lower() for ext in ignore_ext):\n",
    "                        \n",
    "                        link = link.lower()\n",
    "\n",
    "                        link = link.split('#')[0]\n",
    "                        link = link.split('?', maxsplit=1)[0]\n",
    "                        link = link.rstrip('/')\n",
    "                        link = link.strip()\n",
    "\n",
    "                        if link not in urls_crawled and domain in link:\n",
    "#                             print(link)\n",
    "                            url_q.append(link)                 # valid URL to append to the queue\n",
    "                            urls_crawled.append(link)\n",
    "\n",
    "                if (len(pages_crawled) > crawl_limit):\n",
    "                    break                                       # stop crawling when reached limit\n",
    "\n",
    "                page_no += 1\n",
    "            \n",
    "\n",
    "    except Exception as e:\n",
    "        with open(error_file, \"a+\") as log:                  # add error message to error log\n",
    "            log.write(f\"Could not connect to {url}\")\n",
    "            log.write(f\"\\nError occured: {e}\\n\\n\")\n",
    "        file.close()\n",
    "\n",
    "        print(\"Could not connect to \", url)\n",
    "        print(\"Error occured: \", e, \" \\n\")\n",
    "        continue"
   ]
  },
  {
   "cell_type": "code",
   "execution_count": 8,
   "metadata": {
    "ExecuteTime": {
     "end_time": "2020-05-11T03:35:37.114489Z",
     "start_time": "2020-05-11T03:35:37.097488Z"
    }
   },
   "outputs": [],
   "source": [
    "pickle_folder = \"../PickleFiles/\"\n",
    "os.makedirs(pickle_folder, exist_ok=True)\n",
    "\n",
    "# Pickling the dict of crawled pages\n",
    "with open(pickle_folder + '6000_pages_crawled.pickle', 'wb') as f:\n",
    "    pickle.dump(pages_crawled,f)"
   ]
  },
  {
   "cell_type": "code",
   "execution_count": 9,
   "metadata": {
    "ExecuteTime": {
     "end_time": "2020-05-11T03:35:40.939613Z",
     "start_time": "2020-05-11T03:35:40.922612Z"
    },
    "lines_to_next_cell": 2
   },
   "outputs": [
    {
     "data": {
      "text/plain": [
       "6001"
      ]
     },
     "execution_count": 9,
     "metadata": {},
     "output_type": "execute_result"
    }
   ],
   "source": [
    "len(pages_crawled)"
   ]
  },
  {
   "cell_type": "code",
   "execution_count": 4,
   "metadata": {
    "ExecuteTime": {
     "end_time": "2020-05-11T03:34:49.728836Z",
     "start_time": "2020-05-11T03:34:49.713805Z"
    }
   },
   "outputs": [],
   "source": [
    "pickle_folder = \"../PickleFiles/\"\n",
    "os.makedirs(pickle_folder, exist_ok=True)"
   ]
  },
  {
   "cell_type": "code",
   "execution_count": 5,
   "metadata": {
    "ExecuteTime": {
     "end_time": "2020-05-11T03:34:58.023573Z",
     "start_time": "2020-05-11T03:34:57.983668Z"
    }
   },
   "outputs": [],
   "source": [
    "with open(pickle_folder + '6000_pages_crawled.pickle', 'rb') as f:\n",
    "    pages = pickle.load(f)"
   ]
  },
  {
   "cell_type": "code",
   "execution_count": 1,
   "metadata": {
    "ExecuteTime": {
     "end_time": "2020-05-19T03:15:20.090099Z",
     "start_time": "2020-05-19T03:15:20.060105Z"
    }
   },
   "outputs": [
    {
     "data": {
      "text/plain": [
       "True"
      ]
     },
     "execution_count": 1,
     "metadata": {},
     "output_type": "execute_result"
    }
   ],
   "source": [
    "pages_crawled == pages"
   ]
  }
 ],
 "metadata": {
  "jupytext": {
   "formats": "ipynb,py:light"
  },
  "kernelspec": {
   "display_name": "Python [conda env:ds] *",
   "language": "python",
   "name": "conda-env-ds-py"
  },
  "language_info": {
   "codemirror_mode": {
    "name": "ipython",
    "version": 3
   },
   "file_extension": ".py",
   "mimetype": "text/x-python",
   "name": "python",
   "nbconvert_exporter": "python",
   "pygments_lexer": "ipython3",
   "version": "3.8.2"
  },
  "toc": {
   "base_numbering": 1,
   "nav_menu": {},
   "number_sections": true,
   "sideBar": true,
   "skip_h1_title": false,
   "title_cell": "Table of Contents",
   "title_sidebar": "Contents",
   "toc_cell": false,
   "toc_position": {},
   "toc_section_display": true,
   "toc_window_display": false
  },
  "varInspector": {
   "cols": {
    "lenName": 16,
    "lenType": 16,
    "lenVar": 40
   },
   "kernels_config": {
    "python": {
     "delete_cmd_postfix": "",
     "delete_cmd_prefix": "del ",
     "library": "var_list.py",
     "varRefreshCmd": "print(var_dic_list())"
    },
    "r": {
     "delete_cmd_postfix": ") ",
     "delete_cmd_prefix": "rm(",
     "library": "var_list.r",
     "varRefreshCmd": "cat(var_dic_list()) "
    }
   },
   "types_to_exclude": [
    "module",
    "function",
    "builtin_function_or_method",
    "instance",
    "_Feature"
   ],
   "window_display": false
  }
 },
 "nbformat": 4,
 "nbformat_minor": 4
}
