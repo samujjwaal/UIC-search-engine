{
 "cells": [
  {
   "cell_type": "markdown",
   "metadata": {},
   "source": [
    "# Crawler"
   ]
  },
  {
   "cell_type": "code",
   "execution_count": 2,
   "metadata": {
    "ExecuteTime": {
     "end_time": "2020-04-27T00:58:35.671187Z",
     "start_time": "2020-04-27T00:58:35.659161Z"
    }
   },
   "outputs": [],
   "source": [
    "# load dependency libraries\n",
    "import requests\n",
    "from bs4 import BeautifulSoup\n",
    "from collections import deque\n",
    "import os\n",
    "import urllib.request\n",
    "import pickle"
   ]
  },
  {
   "cell_type": "code",
   "execution_count": 4,
   "metadata": {
    "ExecuteTime": {
     "end_time": "2020-04-27T01:54:46.454782Z",
     "start_time": "2020-04-27T01:54:46.431737Z"
    }
   },
   "outputs": [
    {
     "data": {
      "text/plain": [
       "deque(['https://www.cs.uic.edu/'])"
      ]
     },
     "execution_count": 4,
     "metadata": {},
     "output_type": "execute_result"
    }
   ],
   "source": [
    "q = deque()\n",
    "url = \"https://www.cs.uic.edu/\"\n",
    "q.append(url)\n",
    "q"
   ]
  },
  {
   "cell_type": "code",
   "execution_count": 5,
   "metadata": {
    "ExecuteTime": {
     "end_time": "2020-04-27T02:10:11.602899Z",
     "start_time": "2020-04-27T02:10:11.594881Z"
    }
   },
   "outputs": [],
   "source": [
    "domain = \"uic.edu\"\n",
    "urls_crawled = []\n",
    "urls_crawled.append(domain)"
   ]
  },
  {
   "cell_type": "code",
   "execution_count": 8,
   "metadata": {
    "ExecuteTime": {
     "end_time": "2020-04-27T02:19:15.635887Z",
     "start_time": "2020-04-27T02:19:14.778291Z"
    }
   },
   "outputs": [],
   "source": [
    "rqst = requests.get(url)\n"
   ]
  },
  {
   "cell_type": "code",
   "execution_count": 11,
   "metadata": {
    "ExecuteTime": {
     "end_time": "2020-04-27T02:24:38.426205Z",
     "start_time": "2020-04-27T02:24:38.410998Z"
    }
   },
   "outputs": [],
   "source": [
    "# rqst.text"
   ]
  },
  {
   "cell_type": "code",
   "execution_count": 12,
   "metadata": {
    "ExecuteTime": {
     "end_time": "2020-04-27T02:25:10.514781Z",
     "start_time": "2020-04-27T02:25:10.428641Z"
    }
   },
   "outputs": [],
   "source": [
    "soup = BeautifulSoup(rqst.text,'lxml')"
   ]
  },
  {
   "cell_type": "code",
   "execution_count": 24,
   "metadata": {
    "ExecuteTime": {
     "end_time": "2020-04-27T02:50:00.264379Z",
     "start_time": "2020-04-27T02:50:00.246384Z"
    }
   },
   "outputs": [
    {
     "name": "stdout",
     "output_type": "stream",
     "text": [
      "https://cs.uic.edu\n",
      "http://uic.edu\n",
      "https://cs.uic.edu\n",
      "http://uic.edu\n",
      "https://cs.uic.edu\n",
      "https://cs.uic.edu\n",
      "http://engineering.uic.edu/undergraduate-admissions/\n",
      "https://engineering.uic.edu/support/\n",
      "http://engineeringalumni.uic.edu\n",
      "http://engineering.uic.edu\n",
      "http://uic.edu\n",
      "http://maps.uic.edu/\n",
      "http://uic.edu\n",
      "https://cs.uic.edu\n",
      "https://engineering.uic.edu/undergraduate/undergraduate-admissions/\n",
      "https://cs.uic.edu/graduate/admissions/\n",
      "https://cs.uic.edu/cs-events/student-opportunities/\n",
      "https://cs.uic.edu/cs-events/calendar/\n",
      "https://cs.uic.edu/news-stories/uic-cs-students-help-chicago-public-school-students-explore-computer-science/\n",
      "https://cs.uic.edu/news-stories/board-grants-key-approvals-for-uics-new-health-care-engineering-buildings/\n",
      "https://cs.uic.edu/news-stories/uic-aims-to-break-through-gender-gap-in-computer-science/\n",
      "https://cs.uic.edu/cs-news/all-news/\n",
      "http://uic.edu\n",
      "https://cs.uic.edu\n",
      "https://uic.edu/\n",
      "https://catalog.uic.edu/ucat/academic-calendar/\n",
      "https://www.uic.edu/apps/departments-az/search\n",
      "https://disabilityresources.uic.edu/\n",
      "https://emergency.uic.edu/\n",
      "https://today.uic.edu/events\n",
      "https://uic.edu/about/job-opportunities\n",
      "https://library.uic.edu/\n",
      "https://maps.uic.edu/\n",
      "https://ready.uic.edu/digital-materials/uic-safe-mobile-app/\n",
      "https://today.uic.edu/\n",
      "https://uihealth.uic.edu/\n",
      "https://dos.uic.edu/student-veterans-affairs/\n"
     ]
    }
   ],
   "source": [
    "tags = soup.find_all('a')\n",
    "\n",
    "for tag in tags:\n",
    "    l = tag.get('href')\n",
    "    if l is not None and l .startswith(\"http\") and domain in l:\n",
    "        print(l)"
   ]
  }
 ],
 "metadata": {
  "jupytext": {
   "formats": "ipynb,py:light"
  },
  "kernelspec": {
   "display_name": "Python [conda env:ds] *",
   "language": "python",
   "name": "conda-env-ds-py"
  },
  "language_info": {
   "codemirror_mode": {
    "name": "ipython",
    "version": 3
   },
   "file_extension": ".py",
   "mimetype": "text/x-python",
   "name": "python",
   "nbconvert_exporter": "python",
   "pygments_lexer": "ipython3",
   "version": "3.8.2"
  },
  "toc": {
   "base_numbering": 1,
   "nav_menu": {},
   "number_sections": true,
   "sideBar": true,
   "skip_h1_title": false,
   "title_cell": "Table of Contents",
   "title_sidebar": "Contents",
   "toc_cell": false,
   "toc_position": {},
   "toc_section_display": true,
   "toc_window_display": false
  },
  "varInspector": {
   "cols": {
    "lenName": 16,
    "lenType": 16,
    "lenVar": 40
   },
   "kernels_config": {
    "python": {
     "delete_cmd_postfix": "",
     "delete_cmd_prefix": "del ",
     "library": "var_list.py",
     "varRefreshCmd": "print(var_dic_list())"
    },
    "r": {
     "delete_cmd_postfix": ") ",
     "delete_cmd_prefix": "rm(",
     "library": "var_list.r",
     "varRefreshCmd": "cat(var_dic_list()) "
    }
   },
   "types_to_exclude": [
    "module",
    "function",
    "builtin_function_or_method",
    "instance",
    "_Feature"
   ],
   "window_display": false
  }
 },
 "nbformat": 4,
 "nbformat_minor": 4
}
