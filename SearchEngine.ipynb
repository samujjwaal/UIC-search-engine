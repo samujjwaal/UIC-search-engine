{
 "cells": [
  {
   "cell_type": "markdown",
   "metadata": {},
   "source": [
    "# Crawler"
   ]
  },
  {
   "cell_type": "code",
   "execution_count": 41,
   "metadata": {
    "ExecuteTime": {
     "end_time": "2020-04-28T06:05:44.847533Z",
     "start_time": "2020-04-28T06:05:44.832530Z"
    }
   },
   "outputs": [],
   "source": [
    "# load dependency libraries\n",
    "import requests\n",
    "from bs4 import BeautifulSoup\n",
    "from collections import deque\n",
    "import os\n",
    "# import urllib.request\n",
    "import pickle"
   ]
  },
  {
   "cell_type": "code",
   "execution_count": 54,
   "metadata": {
    "ExecuteTime": {
     "end_time": "2020-04-28T07:16:30.530518Z",
     "start_time": "2020-04-28T06:35:22.349772Z"
    }
   },
   "outputs": [
    {
     "name": "stdout",
     "output_type": "stream",
     "text": [
      "Could not connect to  http://www.uic.edu/orgs/ccspd/\n",
      "Error occured:  HTTPConnectionPool(host='ccspd.org.uic.edu', port=80): Max retries exceeded with url: / (Caused by NewConnectionError('<urllib3.connection.HTTPConnection object at 0x0000019967A82E80>: Failed to establish a new connection: [Errno 11001] getaddrinfo failed'))  \n",
      "\n",
      "Could not connect to  https://vcsaonline.uic.edu/lms\n",
      "Error occured:  HTTPSConnectionPool(host='vcsaonline.uic.edu', port=443): Max retries exceeded with url: /lms (Caused by SSLError(SSLCertVerificationError(\"hostname 'vcsaonline.uic.edu' doesn't match 'dev.sa.uic.edu'\")))  \n",
      "\n",
      "Could not connect to  https://www.ready.uic.edu\n",
      "Error occured:  HTTPSConnectionPool(host='www.ready.uic.edu', port=443): Max retries exceeded with url: / (Caused by SSLError(SSLCertVerificationError(\"hostname 'www.ready.uic.edu' doesn't match '*.accc.uic.edu'\")))  \n",
      "\n",
      "Could not connect to  https://vcsa.uic.edu/\n",
      "Error occured:  HTTPSConnectionPool(host='vcsa.uic.edu', port=443): Max retries exceeded with url: / (Caused by SSLError(SSLCertVerificationError(\"hostname 'vcsa.uic.edu' doesn't match '*.accc.uic.edu'\")))  \n",
      "\n",
      "Could not connect to  http://www.psych.uic.edu/\n",
      "Error occured:  HTTPConnectionPool(host='www.psych.uic.edu', port=80): Max retries exceeded with url: / (Caused by NewConnectionError('<urllib3.connection.HTTPConnection object at 0x00000199653F9610>: Failed to establish a new connection: [WinError 10060] A connection attempt failed because the connected party did not properly respond after a period of time, or established connection failed because connected host has failed to respond'))  \n",
      "\n",
      "Could not connect to  http://www.psych.uic.edu/mhsrp/\n",
      "Error occured:  HTTPConnectionPool(host='www.psych.uic.edu', port=80): Max retries exceeded with url: /mhsrp/ (Caused by NewConnectionError('<urllib3.connection.HTTPConnection object at 0x0000019967B183A0>: Failed to establish a new connection: [WinError 10060] A connection attempt failed because the connected party did not properly respond after a period of time, or established connection failed because connected host has failed to respond'))  \n",
      "\n",
      "Could not connect to  http://www.psych.uic.edu/MHSRP/\n",
      "Error occured:  HTTPConnectionPool(host='www.psych.uic.edu', port=80): Max retries exceeded with url: /MHSRP/ (Caused by NewConnectionError('<urllib3.connection.HTTPConnection object at 0x00000199653F9A90>: Failed to establish a new connection: [WinError 10060] A connection attempt failed because the connected party did not properly respond after a period of time, or established connection failed because connected host has failed to respond'))  \n",
      "\n",
      "Could not connect to  http://www.psych.uic.edu/eidp/\n",
      "Error occured:  HTTPConnectionPool(host='www.psych.uic.edu', port=80): Max retries exceeded with url: /eidp/ (Caused by NewConnectionError('<urllib3.connection.HTTPConnection object at 0x0000019966B7E610>: Failed to establish a new connection: [WinError 10060] A connection attempt failed because the connected party did not properly respond after a period of time, or established connection failed because connected host has failed to respond'))  \n",
      "\n",
      "Could not connect to  http://www.psych.uic.edu/mhsrp/publications.htm\n",
      "Error occured:  HTTPConnectionPool(host='www.psych.uic.edu', port=80): Max retries exceeded with url: /mhsrp/publications.htm (Caused by NewConnectionError('<urllib3.connection.HTTPConnection object at 0x00000199655A4D60>: Failed to establish a new connection: [WinError 10060] A connection attempt failed because the connected party did not properly respond after a period of time, or established connection failed because connected host has failed to respond'))  \n",
      "\n",
      "Could not connect to  http://www.psych.uic.edu/eidp/veteranstoolkit.htm\n",
      "Error occured:  HTTPConnectionPool(host='www.psych.uic.edu', port=80): Max retries exceeded with url: /eidp/veteranstoolkit.htm (Caused by NewConnectionError('<urllib3.connection.HTTPConnection object at 0x0000019965FCE730>: Failed to establish a new connection: [WinError 10060] A connection attempt failed because the connected party did not properly respond after a period of time, or established connection failed because connected host has failed to respond'))  \n",
      "\n",
      "Could not connect to  http://www.uic.edu/depts/oaa/disability_resources/student_resources/computing_resources.html\n",
      "Error occured:  HTTPConnectionPool(host='www.uic.edu', port=80): Max retries exceeded with url: /depts/oaa/disability_resources/student_resources/computing_resources.html (Caused by NewConnectionError('<urllib3.connection.HTTPConnection object at 0x0000019966FCC940>: Failed to establish a new connection: [WinError 10060] A connection attempt failed because the connected party did not properly respond after a period of time, or established connection failed because connected host has failed to respond'))  \n",
      "\n",
      "Could not connect to  http://sms.accc.uic.edu/\n",
      "Error occured:  HTTPSConnectionPool(host='accountportal.uic.edu', port=443): Max retries exceeded with url: /auth/manage?dispatch=set_sms_panel (Caused by NewConnectionError('<urllib3.connection.VerifiedHTTPSConnection object at 0x0000019966E35850>: Failed to establish a new connection: [WinError 10060] A connection attempt failed because the connected party did not properly respond after a period of time, or established connection failed because connected host has failed to respond'))  \n",
      "\n",
      "Could not connect to  http://fmweb.fm.uic.edu\n",
      "Error occured:  HTTPConnectionPool(host='fmweb.fm.uic.edu', port=80): Max retries exceeded with url: / (Caused by NewConnectionError('<urllib3.connection.HTTPConnection object at 0x00000199663FF3A0>: Failed to establish a new connection: [Errno 11001] getaddrinfo failed'))  \n",
      "\n",
      "Could not connect to  https://www.nursing.uic.edu/about-us/clinical-learning-resource-center#overview\n",
      "Error occured:  HTTPSConnectionPool(host='www.nursing.uic.edu', port=443): Max retries exceeded with url: /about-us/clinical-learning-resource-center (Caused by SSLError(SSLError(\"bad handshake: Error([('SSL routines', 'tls_process_server_certificate', 'certificate verify failed')])\")))  \n",
      "\n",
      "Could not connect to  https://www.nursing.uic.edu/news/5m-gift-expand-nursing-schools-simulation-lab\n",
      "Error occured:  HTTPSConnectionPool(host='www.nursing.uic.edu', port=443): Max retries exceeded with url: /news/5m-gift-expand-nursing-schools-simulation-lab (Caused by SSLError(SSLError(\"bad handshake: Error([('SSL routines', 'tls_process_server_certificate', 'certificate verify failed')])\")))  \n",
      "\n",
      "Could not connect to  https://www.nursing.uic.edu/simulation-lab/lab-highlights\n",
      "Error occured:  HTTPSConnectionPool(host='www.nursing.uic.edu', port=443): Max retries exceeded with url: /simulation-lab/lab-highlights (Caused by SSLError(SSLError(\"bad handshake: Error([('SSL routines', 'tls_process_server_certificate', 'certificate verify failed')])\")))  \n",
      "\n"
     ]
    }
   ],
   "source": [
    "domain = \"uic.edu\"\n",
    "start_url = \"https://www.cs.uic.edu/\"\n",
    "\n",
    "# file extensions to ignore while crawling pages\n",
    "ignore_ext = [\n",
    "    '.pdf', '.doc', '.docx', '.ppt', '.pptx', '.xls', '.xlsx', '.css', '.js',\n",
    "    '.aspx', '.png', '.jpg', '.jpeg', '.JPG', '.gif', '.svg', '.ico', '.mp4',\n",
    "    '.avi', '.tar', '.gz', '.tgz', '.zip'\n",
    "]\n",
    "\n",
    "crawl_limit = 3000\n",
    "\n",
    "# to make sure error log file is initially empty\n",
    "error_file = \"./error_log.txt\"\n",
    "f = open(error_file, \"r+\")\n",
    "f.truncate()\n",
    "f.close()\n",
    "\n",
    "# queue to perform BFS web traversal\n",
    "url_q = deque()\n",
    "url_q.append(start_url)\n",
    "\n",
    "# list to keep track of traversed URLs\n",
    "urls_crawled = []\n",
    "urls_crawled.append(start_url)\n",
    "\n",
    "# dict to track pages fetched and stored in folder\n",
    "pages_crawled = {}\n",
    "page_no = 0\n",
    "\n",
    "while (len(url_q) != 0):\n",
    "    \n",
    "    try:\n",
    "        url = url_q.popleft()               # fetch the first URL from the queue\n",
    "        rqst = requests.get(url)            # get html code of web page\n",
    "\n",
    "        if (rqst.status_code == 200):\n",
    "            pages_crawled[page_no] = url    \n",
    "\n",
    "            output_file = \"./FetchedPages/\" + str(page_no)\n",
    "            os.makedirs(os.path.dirname(output_file), exist_ok=True)     # create file to store html code\n",
    "\n",
    "            with open(output_file, \"w\", encoding=\"utf-8\") as file:\n",
    "                file.write(rqst.text)\n",
    "            file.close()\n",
    "\n",
    "            soup = BeautifulSoup(rqst.text, 'lxml')\n",
    "            tags_extracted = soup.find_all('a')                 # extract all 'a' tags from page\n",
    "\n",
    "            for tag in tags_extracted:\n",
    "                \n",
    "                l = tag.get('href')\n",
    "\n",
    "                if l is not None and l.startswith(\"http\"):\n",
    "\n",
    "                    if not any(ext in l for ext in ignore_ext):\n",
    "\n",
    "                        if l not in urls_crawled and domain in l:\n",
    "#                             print(l)\n",
    "                            url_q.append(l)                 # valid URL to append to the queue\n",
    "                            urls_crawled.append(l)\n",
    "\n",
    "            if (len(pages_crawled) > crawl_limit):\n",
    "                break                                        # stop crawling when reached limit\n",
    "\n",
    "            page_no += 1\n",
    "\n",
    "    except Exception as e:\n",
    "        with open(error_file, \"a+\") as log:                  # add error message to error log\n",
    "            log.write(f\"Could not connect to {url}\")\n",
    "            log.write(f\"\\nError occured: {e}\\n\\n\")\n",
    "        file.close()\n",
    "\n",
    "        print(\"Could not connect to \", url)\n",
    "        print(\"Error occured: \", e, \" \\n\")\n",
    "        continue\n",
    "        \n",
    "        \n",
    "with open('pages.pickle', 'wb') as f:\n",
    "    pickle.dump(pages_crawled,f)"
   ]
  },
  {
   "cell_type": "code",
   "execution_count": 36,
   "metadata": {
    "ExecuteTime": {
     "end_time": "2020-04-28T05:58:36.312093Z",
     "start_time": "2020-04-28T05:58:36.304085Z"
    },
    "lines_to_next_cell": 2
   },
   "outputs": [
    {
     "data": {
      "text/plain": [
       "3001"
      ]
     },
     "execution_count": 36,
     "metadata": {},
     "output_type": "execute_result"
    }
   ],
   "source": [
    "# len(pages_crawled)\n",
    "# count"
   ]
  },
  {
   "cell_type": "code",
   "execution_count": 67,
   "metadata": {
    "ExecuteTime": {
     "end_time": "2020-04-28T07:26:07.984013Z",
     "start_time": "2020-04-28T07:26:07.968007Z"
    }
   },
   "outputs": [],
   "source": [
    "# pages_crawled"
   ]
  },
  {
   "cell_type": "code",
   "execution_count": 62,
   "metadata": {
    "ExecuteTime": {
     "end_time": "2020-04-28T07:25:49.678885Z",
     "start_time": "2020-04-28T07:25:49.658884Z"
    }
   },
   "outputs": [],
   "source": [
    "with open('pages.pickle', 'rb') as f:\n",
    "    pages = pickle.load(f)"
   ]
  },
  {
   "cell_type": "code",
   "execution_count": 64,
   "metadata": {
    "ExecuteTime": {
     "end_time": "2020-04-28T07:26:00.673561Z",
     "start_time": "2020-04-28T07:26:00.655571Z"
    }
   },
   "outputs": [],
   "source": [
    "# pages"
   ]
  }
 ],
 "metadata": {
  "jupytext": {
   "formats": "ipynb,py:light"
  },
  "kernelspec": {
   "display_name": "Python [conda env:ds] *",
   "language": "python",
   "name": "conda-env-ds-py"
  },
  "toc": {
   "base_numbering": 1,
   "nav_menu": {},
   "number_sections": true,
   "sideBar": true,
   "skip_h1_title": false,
   "title_cell": "Table of Contents",
   "title_sidebar": "Contents",
   "toc_cell": false,
   "toc_position": {},
   "toc_section_display": true,
   "toc_window_display": false
  },
  "varInspector": {
   "cols": {
    "lenName": 16,
    "lenType": 16,
    "lenVar": 40
   },
   "kernels_config": {
    "python": {
     "delete_cmd_postfix": "",
     "delete_cmd_prefix": "del ",
     "library": "var_list.py",
     "varRefreshCmd": "print(var_dic_list())"
    },
    "r": {
     "delete_cmd_postfix": ") ",
     "delete_cmd_prefix": "rm(",
     "library": "var_list.r",
     "varRefreshCmd": "cat(var_dic_list()) "
    }
   },
   "types_to_exclude": [
    "module",
    "function",
    "builtin_function_or_method",
    "instance",
    "_Feature"
   ],
   "window_display": false
  }
 },
 "nbformat": 4,
 "nbformat_minor": 4
}
